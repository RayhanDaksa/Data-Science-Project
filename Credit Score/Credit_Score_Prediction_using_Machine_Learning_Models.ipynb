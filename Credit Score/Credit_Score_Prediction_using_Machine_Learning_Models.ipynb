{
 "cells": [
  {
   "cell_type": "markdown",
   "id": "0a2e5f90",
   "metadata": {},
   "source": [
    "# Credit Score Prediction Using Machine Learning Models"
   ]
  },
  {
   "cell_type": "markdown",
   "id": "35fc2197",
   "metadata": {},
   "source": [
    "In recent years, the rapid growth of the financial industry and the availability of credit options have made credit scores an important aspect in assessing someone's creditworthiness. A credit score is a numerical representation that helps lenders and financial institutions determine the likelihood of a borrower repaying debt on time. It plays a crucial role in determining loan approvals, interest rates, and credit limits."
   ]
  },
  {
   "cell_type": "markdown",
   "id": "f2afe4b6",
   "metadata": {},
   "source": [
    "The objective of this project is to explore machine learning models in predicting credit scores. By harnessing the power of machine learning algorithms and analyzing credit-related data, we aim to build a robust and reliable model that can accurately predict creditworthiness compared to traditional methods."
   ]
  },
  {
   "cell_type": "markdown",
   "id": "2005cd02",
   "metadata": {},
   "source": [
    "Authors:\n",
    "- Musyaffa Ayman Rafif (www.linkedin.com/in/aymanrafif)\n",
    "- Rayhan Prawira Daksa (www.linkedin.com/in/rayhanprawiradaksa)"
   ]
  },
  {
   "cell_type": "markdown",
   "id": "74db4155",
   "metadata": {},
   "source": [
    "## Import Libraries"
   ]
  },
  {
   "cell_type": "code",
   "execution_count": 1,
   "id": "e79ba672",
   "metadata": {},
   "outputs": [],
   "source": [
    "import pandas as pd\n",
    "import numpy as np\n",
    "import matplotlib.pyplot as plt\n",
    "import seaborn as sns\n",
    "from sklearn.model_selection import train_test_split, RandomizedSearchCV\n",
    "from sklearn.ensemble import RandomForestClassifier\n",
    "\n",
    "\n",
    "import math"
   ]
  },
  {
   "cell_type": "code",
   "execution_count": 2,
   "id": "1eeb711c",
   "metadata": {},
   "outputs": [],
   "source": [
    "df = pd.read_csv('Credit_Score_Classification_Dataset.csv')"
   ]
  },
  {
   "cell_type": "markdown",
   "id": "4d1cf950",
   "metadata": {},
   "source": [
    "## Exploratory Data Analysis"
   ]
  },
  {
   "cell_type": "code",
   "execution_count": 3,
   "id": "2978ef57",
   "metadata": {},
   "outputs": [
    {
     "data": {
      "text/html": [
       "<div>\n",
       "<style scoped>\n",
       "    .dataframe tbody tr th:only-of-type {\n",
       "        vertical-align: middle;\n",
       "    }\n",
       "\n",
       "    .dataframe tbody tr th {\n",
       "        vertical-align: top;\n",
       "    }\n",
       "\n",
       "    .dataframe thead th {\n",
       "        text-align: right;\n",
       "    }\n",
       "</style>\n",
       "<table border=\"1\" class=\"dataframe\">\n",
       "  <thead>\n",
       "    <tr style=\"text-align: right;\">\n",
       "      <th></th>\n",
       "      <th>Age</th>\n",
       "      <th>Gender</th>\n",
       "      <th>Income</th>\n",
       "      <th>Education</th>\n",
       "      <th>Marital Status</th>\n",
       "      <th>Number of Children</th>\n",
       "      <th>Home Ownership</th>\n",
       "      <th>Credit Score</th>\n",
       "    </tr>\n",
       "  </thead>\n",
       "  <tbody>\n",
       "    <tr>\n",
       "      <th>0</th>\n",
       "      <td>25</td>\n",
       "      <td>Female</td>\n",
       "      <td>50000</td>\n",
       "      <td>Bachelor's Degree</td>\n",
       "      <td>Single</td>\n",
       "      <td>0</td>\n",
       "      <td>Rented</td>\n",
       "      <td>High</td>\n",
       "    </tr>\n",
       "    <tr>\n",
       "      <th>1</th>\n",
       "      <td>30</td>\n",
       "      <td>Male</td>\n",
       "      <td>100000</td>\n",
       "      <td>Master's Degree</td>\n",
       "      <td>Married</td>\n",
       "      <td>2</td>\n",
       "      <td>Owned</td>\n",
       "      <td>High</td>\n",
       "    </tr>\n",
       "    <tr>\n",
       "      <th>2</th>\n",
       "      <td>35</td>\n",
       "      <td>Female</td>\n",
       "      <td>75000</td>\n",
       "      <td>Doctorate</td>\n",
       "      <td>Married</td>\n",
       "      <td>1</td>\n",
       "      <td>Owned</td>\n",
       "      <td>High</td>\n",
       "    </tr>\n",
       "    <tr>\n",
       "      <th>3</th>\n",
       "      <td>40</td>\n",
       "      <td>Male</td>\n",
       "      <td>125000</td>\n",
       "      <td>High School Diploma</td>\n",
       "      <td>Single</td>\n",
       "      <td>0</td>\n",
       "      <td>Owned</td>\n",
       "      <td>High</td>\n",
       "    </tr>\n",
       "    <tr>\n",
       "      <th>4</th>\n",
       "      <td>45</td>\n",
       "      <td>Female</td>\n",
       "      <td>100000</td>\n",
       "      <td>Bachelor's Degree</td>\n",
       "      <td>Married</td>\n",
       "      <td>3</td>\n",
       "      <td>Owned</td>\n",
       "      <td>High</td>\n",
       "    </tr>\n",
       "  </tbody>\n",
       "</table>\n",
       "</div>"
      ],
      "text/plain": [
       "   Age  Gender  Income            Education Marital Status  \\\n",
       "0   25  Female   50000    Bachelor's Degree         Single   \n",
       "1   30    Male  100000      Master's Degree        Married   \n",
       "2   35  Female   75000            Doctorate        Married   \n",
       "3   40    Male  125000  High School Diploma         Single   \n",
       "4   45  Female  100000    Bachelor's Degree        Married   \n",
       "\n",
       "   Number of Children Home Ownership Credit Score  \n",
       "0                   0         Rented         High  \n",
       "1                   2          Owned         High  \n",
       "2                   1          Owned         High  \n",
       "3                   0          Owned         High  \n",
       "4                   3          Owned         High  "
      ]
     },
     "execution_count": 3,
     "metadata": {},
     "output_type": "execute_result"
    }
   ],
   "source": [
    "df.head()"
   ]
  },
  {
   "cell_type": "code",
   "execution_count": 4,
   "id": "3de4cd37",
   "metadata": {},
   "outputs": [
    {
     "data": {
      "text/html": [
       "<div>\n",
       "<style scoped>\n",
       "    .dataframe tbody tr th:only-of-type {\n",
       "        vertical-align: middle;\n",
       "    }\n",
       "\n",
       "    .dataframe tbody tr th {\n",
       "        vertical-align: top;\n",
       "    }\n",
       "\n",
       "    .dataframe thead th {\n",
       "        text-align: right;\n",
       "    }\n",
       "</style>\n",
       "<table border=\"1\" class=\"dataframe\">\n",
       "  <thead>\n",
       "    <tr style=\"text-align: right;\">\n",
       "      <th></th>\n",
       "      <th>Age</th>\n",
       "      <th>Gender</th>\n",
       "      <th>Income</th>\n",
       "      <th>Education</th>\n",
       "      <th>Marital Status</th>\n",
       "      <th>Number of Children</th>\n",
       "      <th>Home Ownership</th>\n",
       "      <th>Credit Score</th>\n",
       "    </tr>\n",
       "  </thead>\n",
       "  <tbody>\n",
       "    <tr>\n",
       "      <th>159</th>\n",
       "      <td>29</td>\n",
       "      <td>Female</td>\n",
       "      <td>27500</td>\n",
       "      <td>High School Diploma</td>\n",
       "      <td>Single</td>\n",
       "      <td>0</td>\n",
       "      <td>Rented</td>\n",
       "      <td>Low</td>\n",
       "    </tr>\n",
       "    <tr>\n",
       "      <th>160</th>\n",
       "      <td>34</td>\n",
       "      <td>Male</td>\n",
       "      <td>47500</td>\n",
       "      <td>Associate's Degree</td>\n",
       "      <td>Single</td>\n",
       "      <td>0</td>\n",
       "      <td>Rented</td>\n",
       "      <td>Average</td>\n",
       "    </tr>\n",
       "    <tr>\n",
       "      <th>161</th>\n",
       "      <td>39</td>\n",
       "      <td>Female</td>\n",
       "      <td>62500</td>\n",
       "      <td>Bachelor's Degree</td>\n",
       "      <td>Married</td>\n",
       "      <td>2</td>\n",
       "      <td>Owned</td>\n",
       "      <td>High</td>\n",
       "    </tr>\n",
       "    <tr>\n",
       "      <th>162</th>\n",
       "      <td>44</td>\n",
       "      <td>Male</td>\n",
       "      <td>87500</td>\n",
       "      <td>Master's Degree</td>\n",
       "      <td>Single</td>\n",
       "      <td>0</td>\n",
       "      <td>Owned</td>\n",
       "      <td>High</td>\n",
       "    </tr>\n",
       "    <tr>\n",
       "      <th>163</th>\n",
       "      <td>49</td>\n",
       "      <td>Female</td>\n",
       "      <td>77500</td>\n",
       "      <td>Doctorate</td>\n",
       "      <td>Married</td>\n",
       "      <td>1</td>\n",
       "      <td>Owned</td>\n",
       "      <td>High</td>\n",
       "    </tr>\n",
       "  </tbody>\n",
       "</table>\n",
       "</div>"
      ],
      "text/plain": [
       "     Age  Gender  Income            Education Marital Status  \\\n",
       "159   29  Female   27500  High School Diploma         Single   \n",
       "160   34    Male   47500   Associate's Degree         Single   \n",
       "161   39  Female   62500    Bachelor's Degree        Married   \n",
       "162   44    Male   87500      Master's Degree         Single   \n",
       "163   49  Female   77500            Doctorate        Married   \n",
       "\n",
       "     Number of Children Home Ownership Credit Score  \n",
       "159                   0         Rented          Low  \n",
       "160                   0         Rented      Average  \n",
       "161                   2          Owned         High  \n",
       "162                   0          Owned         High  \n",
       "163                   1          Owned         High  "
      ]
     },
     "execution_count": 4,
     "metadata": {},
     "output_type": "execute_result"
    }
   ],
   "source": [
    "df.tail()"
   ]
  },
  {
   "cell_type": "code",
   "execution_count": 5,
   "id": "8bb9f9a6",
   "metadata": {},
   "outputs": [
    {
     "data": {
      "text/plain": [
       "Index(['Age', 'Gender', 'Income', 'Education', 'Marital Status',\n",
       "       'Number of Children', 'Home Ownership', 'Credit Score'],\n",
       "      dtype='object')"
      ]
     },
     "execution_count": 5,
     "metadata": {},
     "output_type": "execute_result"
    }
   ],
   "source": [
    "df.columns"
   ]
  },
  {
   "cell_type": "markdown",
   "id": "4d4d15ce",
   "metadata": {},
   "source": [
    "1. Age: Individual's age in years.\n",
    "2. Gender: Individual's gender (male or female).\n",
    "3. Income: Individual's annual income in US dollars.\n",
    "4. Education: Highest level of education completed by the individual.\n",
    "5. Marital Status: Individual's marital status (single, married, divorced, or widowed).\n",
    "6. Number of Children: The number of children the individual has.\n",
    "7. Home Ownership: Whether the individual owns a home or rents.\n",
    "8. Credit Score: Individual's credit score, which is a measure of their creditworthiness."
   ]
  },
  {
   "cell_type": "markdown",
   "id": "b6a30d23",
   "metadata": {},
   "source": [
    "### Descriptive Statistics "
   ]
  },
  {
   "cell_type": "code",
   "execution_count": 6,
   "id": "db24fc18",
   "metadata": {},
   "outputs": [
    {
     "name": "stdout",
     "output_type": "stream",
     "text": [
      "<class 'pandas.core.frame.DataFrame'>\n",
      "RangeIndex: 164 entries, 0 to 163\n",
      "Data columns (total 8 columns):\n",
      " #   Column              Non-Null Count  Dtype \n",
      "---  ------              --------------  ----- \n",
      " 0   Age                 164 non-null    int64 \n",
      " 1   Gender              164 non-null    object\n",
      " 2   Income              164 non-null    int64 \n",
      " 3   Education           164 non-null    object\n",
      " 4   Marital Status      164 non-null    object\n",
      " 5   Number of Children  164 non-null    int64 \n",
      " 6   Home Ownership      164 non-null    object\n",
      " 7   Credit Score        164 non-null    object\n",
      "dtypes: int64(3), object(5)\n",
      "memory usage: 10.4+ KB\n"
     ]
    }
   ],
   "source": [
    "df.info()"
   ]
  },
  {
   "cell_type": "markdown",
   "id": "9a65e79a",
   "metadata": {},
   "source": [
    "Observation Result:\n",
    "1. There are 3 numerical columns and 5 categorical columns in the data.\n",
    "\n",
    "2. There are no missing values in this data."
   ]
  },
  {
   "cell_type": "markdown",
   "id": "5f2c94f6",
   "metadata": {},
   "source": [
    "Here we will divide the dataframe into 2 new dataframes, where the first dataframe will take data with categorical variables, and the second dataframe will take data with numerical variables."
   ]
  },
  {
   "cell_type": "code",
   "execution_count": 7,
   "id": "fd704373",
   "metadata": {},
   "outputs": [],
   "source": [
    "cat_cols = df.select_dtypes(include='object').columns.tolist()\n",
    "num_cols = df.select_dtypes(exclude='object').columns.tolist()"
   ]
  },
  {
   "cell_type": "code",
   "execution_count": 8,
   "id": "b66796e9",
   "metadata": {},
   "outputs": [
    {
     "data": {
      "text/html": [
       "<div>\n",
       "<style scoped>\n",
       "    .dataframe tbody tr th:only-of-type {\n",
       "        vertical-align: middle;\n",
       "    }\n",
       "\n",
       "    .dataframe tbody tr th {\n",
       "        vertical-align: top;\n",
       "    }\n",
       "\n",
       "    .dataframe thead th {\n",
       "        text-align: right;\n",
       "    }\n",
       "</style>\n",
       "<table border=\"1\" class=\"dataframe\">\n",
       "  <thead>\n",
       "    <tr style=\"text-align: right;\">\n",
       "      <th></th>\n",
       "      <th>count</th>\n",
       "      <th>unique</th>\n",
       "      <th>top</th>\n",
       "      <th>freq</th>\n",
       "    </tr>\n",
       "  </thead>\n",
       "  <tbody>\n",
       "    <tr>\n",
       "      <th>Gender</th>\n",
       "      <td>164</td>\n",
       "      <td>2</td>\n",
       "      <td>Female</td>\n",
       "      <td>86</td>\n",
       "    </tr>\n",
       "    <tr>\n",
       "      <th>Education</th>\n",
       "      <td>164</td>\n",
       "      <td>5</td>\n",
       "      <td>Bachelor's Degree</td>\n",
       "      <td>42</td>\n",
       "    </tr>\n",
       "    <tr>\n",
       "      <th>Marital Status</th>\n",
       "      <td>164</td>\n",
       "      <td>2</td>\n",
       "      <td>Married</td>\n",
       "      <td>87</td>\n",
       "    </tr>\n",
       "    <tr>\n",
       "      <th>Home Ownership</th>\n",
       "      <td>164</td>\n",
       "      <td>2</td>\n",
       "      <td>Owned</td>\n",
       "      <td>111</td>\n",
       "    </tr>\n",
       "    <tr>\n",
       "      <th>Credit Score</th>\n",
       "      <td>164</td>\n",
       "      <td>3</td>\n",
       "      <td>High</td>\n",
       "      <td>113</td>\n",
       "    </tr>\n",
       "  </tbody>\n",
       "</table>\n",
       "</div>"
      ],
      "text/plain": [
       "               count unique                top freq\n",
       "Gender           164      2             Female   86\n",
       "Education        164      5  Bachelor's Degree   42\n",
       "Marital Status   164      2            Married   87\n",
       "Home Ownership   164      2              Owned  111\n",
       "Credit Score     164      3               High  113"
      ]
     },
     "execution_count": 8,
     "metadata": {},
     "output_type": "execute_result"
    }
   ],
   "source": [
    "df[cat_cols].describe().T"
   ]
  },
  {
   "cell_type": "code",
   "execution_count": 9,
   "id": "6f6e4b7a",
   "metadata": {},
   "outputs": [
    {
     "data": {
      "text/html": [
       "<div>\n",
       "<style scoped>\n",
       "    .dataframe tbody tr th:only-of-type {\n",
       "        vertical-align: middle;\n",
       "    }\n",
       "\n",
       "    .dataframe tbody tr th {\n",
       "        vertical-align: top;\n",
       "    }\n",
       "\n",
       "    .dataframe thead th {\n",
       "        text-align: right;\n",
       "    }\n",
       "</style>\n",
       "<table border=\"1\" class=\"dataframe\">\n",
       "  <thead>\n",
       "    <tr style=\"text-align: right;\">\n",
       "      <th></th>\n",
       "      <th>count</th>\n",
       "      <th>mean</th>\n",
       "      <th>std</th>\n",
       "      <th>min</th>\n",
       "      <th>25%</th>\n",
       "      <th>50%</th>\n",
       "      <th>75%</th>\n",
       "      <th>max</th>\n",
       "    </tr>\n",
       "  </thead>\n",
       "  <tbody>\n",
       "    <tr>\n",
       "      <th>Age</th>\n",
       "      <td>164.0</td>\n",
       "      <td>37.975610</td>\n",
       "      <td>8.477289</td>\n",
       "      <td>25.0</td>\n",
       "      <td>30.75</td>\n",
       "      <td>37.0</td>\n",
       "      <td>45.0</td>\n",
       "      <td>53.0</td>\n",
       "    </tr>\n",
       "    <tr>\n",
       "      <th>Income</th>\n",
       "      <td>164.0</td>\n",
       "      <td>83765.243902</td>\n",
       "      <td>32457.306728</td>\n",
       "      <td>25000.0</td>\n",
       "      <td>57500.00</td>\n",
       "      <td>83750.0</td>\n",
       "      <td>105000.0</td>\n",
       "      <td>162500.0</td>\n",
       "    </tr>\n",
       "    <tr>\n",
       "      <th>Number of Children</th>\n",
       "      <td>164.0</td>\n",
       "      <td>0.652439</td>\n",
       "      <td>0.883346</td>\n",
       "      <td>0.0</td>\n",
       "      <td>0.00</td>\n",
       "      <td>0.0</td>\n",
       "      <td>1.0</td>\n",
       "      <td>3.0</td>\n",
       "    </tr>\n",
       "  </tbody>\n",
       "</table>\n",
       "</div>"
      ],
      "text/plain": [
       "                    count          mean           std      min       25%  \\\n",
       "Age                 164.0     37.975610      8.477289     25.0     30.75   \n",
       "Income              164.0  83765.243902  32457.306728  25000.0  57500.00   \n",
       "Number of Children  164.0      0.652439      0.883346      0.0      0.00   \n",
       "\n",
       "                        50%       75%       max  \n",
       "Age                    37.0      45.0      53.0  \n",
       "Income              83750.0  105000.0  162500.0  \n",
       "Number of Children      0.0       1.0       3.0  "
      ]
     },
     "execution_count": 9,
     "metadata": {},
     "output_type": "execute_result"
    }
   ],
   "source": [
    "df[num_cols].describe().T"
   ]
  },
  {
   "cell_type": "markdown",
   "id": "da4723bb",
   "metadata": {},
   "source": [
    "### Univariate Analysis "
   ]
  },
  {
   "cell_type": "code",
   "execution_count": 10,
   "id": "646175eb",
   "metadata": {},
   "outputs": [
    {
     "data": {
      "image/png": "[encoded data removed]",
      "text/plain": [
       "<Figure size 720x288 with 3 Axes>"
      ]
     },
     "metadata": {
      "needs_background": "light"
     },
     "output_type": "display_data"
    }
   ],
   "source": [
    "# Univariate analysis for numerical columns\n",
    "num_cols_count = len(num_cols)\n",
    "num_rows = math.ceil(num_cols_count / 3)\n",
    "num_figures = math.ceil(num_cols_count / 9)\n",
    "\n",
    "for f in range(num_figures):\n",
    "    start_idx = f * 9\n",
    "    end_idx = min(start_idx + 9, num_cols_count)\n",
    "    plt.figure(figsize=(10, 4))\n",
    "    for i, col in enumerate(num_cols[start_idx:end_idx]):\n",
    "        plt.subplot(num_rows, 3, i+1)\n",
    "        sns.histplot(df[col].dropna(), kde=True, color='skyblue')\n",
    "        plt.xlabel(col)\n",
    "        plt.ylabel('Count')\n",
    "    plt.tight_layout()\n",
    "    plt.show()"
   ]
  },
  {
   "cell_type": "code",
   "execution_count": 11,
   "id": "97c2b44e",
   "metadata": {},
   "outputs": [
    {
     "data": {
      "image/png": "[encoded data removed]",
      "text/plain": [
       "<Figure size 1080x720 with 5 Axes>"
      ]
     },
     "metadata": {
      "needs_background": "light"
     },
     "output_type": "display_data"
    }
   ],
   "source": [
    "# Univariate analysis for categorical columns\n",
    "num_cat_cols = len(cat_cols)\n",
    "num_rows = (num_cat_cols - 1) // 3 + 1\n",
    "plt.figure(figsize=(15, 5*num_rows))\n",
    "for i, col in enumerate(cat_cols):\n",
    "    plt.subplot(num_rows, 3, i+1)\n",
    "    sns.countplot(x=col, data=df, hue=df['Credit Score'])\n",
    "    plt.xlabel(col)\n",
    "    plt.ylabel('Count')\n",
    "plt.tight_layout()\n",
    "plt.show()"
   ]
  },
  {
   "cell_type": "code",
   "execution_count": 12,
   "id": "2737b106",
   "metadata": {},
   "outputs": [
    {
     "name": "stdout",
     "output_type": "stream",
     "text": [
      "Value counts in Gender:\n",
      "Female    86\n",
      "Male      78\n",
      "Name: Gender, dtype: int64\n",
      "\n",
      "Value counts in Education:\n",
      "Bachelor's Degree      42\n",
      "Master's Degree        36\n",
      "Doctorate              31\n",
      "High School Diploma    30\n",
      "Associate's Degree     25\n",
      "Name: Education, dtype: int64\n",
      "\n",
      "Value counts in Marital Status:\n",
      "Married    87\n",
      "Single     77\n",
      "Name: Marital Status, dtype: int64\n",
      "\n",
      "Value counts in Home Ownership:\n",
      "Owned     111\n",
      "Rented     53\n",
      "Name: Home Ownership, dtype: int64\n",
      "\n",
      "Value counts in Credit Score:\n",
      "High       113\n",
      "Average     36\n",
      "Low         15\n",
      "Name: Credit Score, dtype: int64\n",
      "\n"
     ]
    }
   ],
   "source": [
    "for col in cat_cols:\n",
    "    print(f'''Value counts in {col}:''')\n",
    "    print(df[col].value_counts())\n",
    "    print()"
   ]
  },
  {
   "cell_type": "markdown",
   "id": "f9f53192",
   "metadata": {},
   "source": [
    "## Multivariate Analysis "
   ]
  },
  {
   "cell_type": "code",
   "execution_count": 13,
   "id": "5cde7496",
   "metadata": {},
   "outputs": [
    {
     "data": {
      "image/png": "[encoded data removed]",
      "text/plain": [
       "<Figure size 720x576 with 2 Axes>"
      ]
     },
     "metadata": {
      "needs_background": "light"
     },
     "output_type": "display_data"
    }
   ],
   "source": [
    "corr_matrix = df.corr()\n",
    "plt.figure(figsize=(10, 8))\n",
    "sns.heatmap(corr_matrix, annot=True, cmap='coolwarm', fmt=\".2f\", linewidths=0.5)\n",
    "plt.title('Correlation Matrix Heatmap', fontsize=16, fontweight='bold')\n",
    "plt.xticks(rotation=45)\n",
    "plt.yticks(rotation=0)\n",
    "plt.tight_layout()\n",
    "plt.show()"
   ]
  },
  {
   "cell_type": "markdown",
   "id": "82c947f9",
   "metadata": {},
   "source": [
    "## Data Preprocessing"
   ]
  },
  {
   "cell_type": "code",
   "execution_count": 14,
   "id": "50205652",
   "metadata": {},
   "outputs": [],
   "source": [
    "df_prep = df.copy()"
   ]
  },
  {
   "cell_type": "markdown",
   "id": "82acef33",
   "metadata": {},
   "source": [
    "### Label Encoding "
   ]
  },
  {
   "cell_type": "code",
   "execution_count": 15,
   "id": "b2acbca9",
   "metadata": {},
   "outputs": [],
   "source": [
    "from sklearn.preprocessing import LabelEncoder\n",
    "\n",
    "encoder = LabelEncoder()\n",
    "\n",
    "df_prep['Gender'] = encoder.fit_transform(df_prep['Gender'])\n",
    "df_prep['Marital Status'] = encoder.fit_transform(df_prep['Marital Status'])\n",
    "df_prep['Home Ownership'] = encoder.fit_transform(df_prep['Home Ownership'])\n",
    "\n",
    "mapping_credit = {'Low': 0, 'Average': 1, 'High': 2}\n",
    "df_prep['Credit Score'] = df_prep['Credit Score'].map(mapping_credit)\n",
    "\n",
    "mapping_edu = {'High School Diploma': 0, \"Associate's Degree\": 1, \"Bachelor's Degree\": 2, \"Master's Degree\": 3, 'Doctorate': 4}\n",
    "df_prep['Education'] = df_prep['Education'].map(mapping_edu)"
   ]
  },
  {
   "cell_type": "code",
   "execution_count": 16,
   "id": "47631ddb",
   "metadata": {},
   "outputs": [
    {
     "name": "stdout",
     "output_type": "stream",
     "text": [
      "'Value counts in Gender:\n",
      "0    86\n",
      "1    78\n",
      "Name: Gender, dtype: int64\n",
      "\n",
      "'Value counts in Education:\n",
      "2    42\n",
      "3    36\n",
      "4    31\n",
      "0    30\n",
      "1    25\n",
      "Name: Education, dtype: int64\n",
      "\n",
      "'Value counts in Marital Status:\n",
      "0    87\n",
      "1    77\n",
      "Name: Marital Status, dtype: int64\n",
      "\n",
      "'Value counts in Home Ownership:\n",
      "0    111\n",
      "1     53\n",
      "Name: Home Ownership, dtype: int64\n",
      "\n",
      "'Value counts in Credit Score:\n",
      "2    113\n",
      "1     36\n",
      "0     15\n",
      "Name: Credit Score, dtype: int64\n",
      "\n"
     ]
    }
   ],
   "source": [
    "for col in cat_cols:\n",
    "    print(f''''Value counts in {col}:''')\n",
    "    print(df_prep[col].value_counts())\n",
    "    print()"
   ]
  },
  {
   "cell_type": "code",
   "execution_count": 17,
   "id": "7dde3679",
   "metadata": {},
   "outputs": [
    {
     "name": "stdout",
     "output_type": "stream",
     "text": [
      "<class 'pandas.core.frame.DataFrame'>\n",
      "RangeIndex: 164 entries, 0 to 163\n",
      "Data columns (total 8 columns):\n",
      " #   Column              Non-Null Count  Dtype\n",
      "---  ------              --------------  -----\n",
      " 0   Age                 164 non-null    int64\n",
      " 1   Gender              164 non-null    int32\n",
      " 2   Income              164 non-null    int64\n",
      " 3   Education           164 non-null    int64\n",
      " 4   Marital Status      164 non-null    int32\n",
      " 5   Number of Children  164 non-null    int64\n",
      " 6   Home Ownership      164 non-null    int32\n",
      " 7   Credit Score        164 non-null    int64\n",
      "dtypes: int32(3), int64(5)\n",
      "memory usage: 8.5 KB\n"
     ]
    }
   ],
   "source": [
    "df_prep.info()"
   ]
  },
  {
   "cell_type": "markdown",
   "id": "dfb05de5",
   "metadata": {},
   "source": [
    "### Check missing value "
   ]
  },
  {
   "cell_type": "code",
   "execution_count": 18,
   "id": "1652391b",
   "metadata": {},
   "outputs": [
    {
     "name": "stdout",
     "output_type": "stream",
     "text": [
      "Age                   0\n",
      "Gender                0\n",
      "Income                0\n",
      "Education             0\n",
      "Marital Status        0\n",
      "Number of Children    0\n",
      "Home Ownership        0\n",
      "Credit Score          0\n",
      "dtype: int64\n"
     ]
    }
   ],
   "source": [
    "missing_values = df_prep.isnull().sum()\n",
    "print(missing_values)"
   ]
  },
  {
   "cell_type": "markdown",
   "id": "4b9ab08e",
   "metadata": {},
   "source": [
    "There is no missing value in this data"
   ]
  },
  {
   "cell_type": "markdown",
   "id": "358f4838",
   "metadata": {},
   "source": [
    "### Handling Duplicated Data "
   ]
  },
  {
   "cell_type": "code",
   "execution_count": 19,
   "id": "236af0c1",
   "metadata": {},
   "outputs": [
    {
     "data": {
      "text/plain": [
       "98"
      ]
     },
     "execution_count": 19,
     "metadata": {},
     "output_type": "execute_result"
    }
   ],
   "source": [
    "df_prep.duplicated(keep=False).sum()"
   ]
  },
  {
   "cell_type": "code",
   "execution_count": 20,
   "id": "75f59b67",
   "metadata": {
    "scrolled": true
   },
   "outputs": [
    {
     "name": "stdout",
     "output_type": "stream",
     "text": [
      "Duplicate Rows :\n"
     ]
    },
    {
     "data": {
      "text/html": [
       "<div>\n",
       "<style scoped>\n",
       "    .dataframe tbody tr th:only-of-type {\n",
       "        vertical-align: middle;\n",
       "    }\n",
       "\n",
       "    .dataframe tbody tr th {\n",
       "        vertical-align: top;\n",
       "    }\n",
       "\n",
       "    .dataframe thead th {\n",
       "        text-align: right;\n",
       "    }\n",
       "</style>\n",
       "<table border=\"1\" class=\"dataframe\">\n",
       "  <thead>\n",
       "    <tr style=\"text-align: right;\">\n",
       "      <th></th>\n",
       "      <th>Age</th>\n",
       "      <th>Gender</th>\n",
       "      <th>Income</th>\n",
       "      <th>Education</th>\n",
       "      <th>Marital Status</th>\n",
       "      <th>Number of Children</th>\n",
       "      <th>Home Ownership</th>\n",
       "      <th>Credit Score</th>\n",
       "    </tr>\n",
       "  </thead>\n",
       "  <tbody>\n",
       "    <tr>\n",
       "      <th>29</th>\n",
       "      <td>25</td>\n",
       "      <td>0</td>\n",
       "      <td>55000</td>\n",
       "      <td>2</td>\n",
       "      <td>1</td>\n",
       "      <td>0</td>\n",
       "      <td>1</td>\n",
       "      <td>1</td>\n",
       "    </tr>\n",
       "    <tr>\n",
       "      <th>30</th>\n",
       "      <td>30</td>\n",
       "      <td>1</td>\n",
       "      <td>105000</td>\n",
       "      <td>3</td>\n",
       "      <td>0</td>\n",
       "      <td>2</td>\n",
       "      <td>0</td>\n",
       "      <td>2</td>\n",
       "    </tr>\n",
       "    <tr>\n",
       "      <th>31</th>\n",
       "      <td>35</td>\n",
       "      <td>0</td>\n",
       "      <td>80000</td>\n",
       "      <td>4</td>\n",
       "      <td>0</td>\n",
       "      <td>1</td>\n",
       "      <td>0</td>\n",
       "      <td>2</td>\n",
       "    </tr>\n",
       "    <tr>\n",
       "      <th>32</th>\n",
       "      <td>40</td>\n",
       "      <td>1</td>\n",
       "      <td>130000</td>\n",
       "      <td>0</td>\n",
       "      <td>1</td>\n",
       "      <td>0</td>\n",
       "      <td>0</td>\n",
       "      <td>2</td>\n",
       "    </tr>\n",
       "    <tr>\n",
       "      <th>33</th>\n",
       "      <td>45</td>\n",
       "      <td>0</td>\n",
       "      <td>105000</td>\n",
       "      <td>2</td>\n",
       "      <td>0</td>\n",
       "      <td>3</td>\n",
       "      <td>0</td>\n",
       "      <td>2</td>\n",
       "    </tr>\n",
       "    <tr>\n",
       "      <th>...</th>\n",
       "      <td>...</td>\n",
       "      <td>...</td>\n",
       "      <td>...</td>\n",
       "      <td>...</td>\n",
       "      <td>...</td>\n",
       "      <td>...</td>\n",
       "      <td>...</td>\n",
       "      <td>...</td>\n",
       "    </tr>\n",
       "    <tr>\n",
       "      <th>159</th>\n",
       "      <td>29</td>\n",
       "      <td>0</td>\n",
       "      <td>27500</td>\n",
       "      <td>0</td>\n",
       "      <td>1</td>\n",
       "      <td>0</td>\n",
       "      <td>1</td>\n",
       "      <td>0</td>\n",
       "    </tr>\n",
       "    <tr>\n",
       "      <th>160</th>\n",
       "      <td>34</td>\n",
       "      <td>1</td>\n",
       "      <td>47500</td>\n",
       "      <td>1</td>\n",
       "      <td>1</td>\n",
       "      <td>0</td>\n",
       "      <td>1</td>\n",
       "      <td>1</td>\n",
       "    </tr>\n",
       "    <tr>\n",
       "      <th>161</th>\n",
       "      <td>39</td>\n",
       "      <td>0</td>\n",
       "      <td>62500</td>\n",
       "      <td>2</td>\n",
       "      <td>0</td>\n",
       "      <td>2</td>\n",
       "      <td>0</td>\n",
       "      <td>2</td>\n",
       "    </tr>\n",
       "    <tr>\n",
       "      <th>162</th>\n",
       "      <td>44</td>\n",
       "      <td>1</td>\n",
       "      <td>87500</td>\n",
       "      <td>3</td>\n",
       "      <td>1</td>\n",
       "      <td>0</td>\n",
       "      <td>0</td>\n",
       "      <td>2</td>\n",
       "    </tr>\n",
       "    <tr>\n",
       "      <th>163</th>\n",
       "      <td>49</td>\n",
       "      <td>0</td>\n",
       "      <td>77500</td>\n",
       "      <td>4</td>\n",
       "      <td>0</td>\n",
       "      <td>1</td>\n",
       "      <td>0</td>\n",
       "      <td>2</td>\n",
       "    </tr>\n",
       "  </tbody>\n",
       "</table>\n",
       "<p>98 rows × 8 columns</p>\n",
       "</div>"
      ],
      "text/plain": [
       "     Age  Gender  Income  Education  Marital Status  Number of Children  \\\n",
       "29    25       0   55000          2               1                   0   \n",
       "30    30       1  105000          3               0                   2   \n",
       "31    35       0   80000          4               0                   1   \n",
       "32    40       1  130000          0               1                   0   \n",
       "33    45       0  105000          2               0                   3   \n",
       "..   ...     ...     ...        ...             ...                 ...   \n",
       "159   29       0   27500          0               1                   0   \n",
       "160   34       1   47500          1               1                   0   \n",
       "161   39       0   62500          2               0                   2   \n",
       "162   44       1   87500          3               1                   0   \n",
       "163   49       0   77500          4               0                   1   \n",
       "\n",
       "     Home Ownership  Credit Score  \n",
       "29                1             1  \n",
       "30                0             2  \n",
       "31                0             2  \n",
       "32                0             2  \n",
       "33                0             2  \n",
       "..              ...           ...  \n",
       "159               1             0  \n",
       "160               1             1  \n",
       "161               0             2  \n",
       "162               0             2  \n",
       "163               0             2  \n",
       "\n",
       "[98 rows x 8 columns]"
      ]
     },
     "execution_count": 20,
     "metadata": {},
     "output_type": "execute_result"
    }
   ],
   "source": [
    "duplicate = df_prep[df_prep.duplicated(keep=False)]\n",
    " \n",
    "print(\"Duplicate Rows :\")\n",
    " \n",
    "# Print the resultant Dataframe\n",
    "duplicate"
   ]
  },
  {
   "cell_type": "markdown",
   "id": "bbdf6c00",
   "metadata": {},
   "source": [
    "Observation Result:\n",
    "\n",
    "There are 98 duplicate data entries. The count of 98 suggests that there may be a specific column or combination of columns that contain the same values in multiple rows, but there are no rows that are completely identical."
   ]
  },
  {
   "cell_type": "markdown",
   "id": "16045187",
   "metadata": {},
   "source": [
    "### Handling Outlier "
   ]
  },
  {
   "cell_type": "code",
   "execution_count": 21,
   "id": "32d43abf",
   "metadata": {},
   "outputs": [
    {
     "data": {
      "image/png": "[encoded data removed]",
      "text/plain": [
       "<Figure size 432x288 with 1 Axes>"
      ]
     },
     "metadata": {
      "needs_background": "light"
     },
     "output_type": "display_data"
    },
    {
     "data": {
      "image/png": "[encoded data removed]",
      "text/plain": [
       "<Figure size 432x288 with 1 Axes>"
      ]
     },
     "metadata": {
      "needs_background": "light"
     },
     "output_type": "display_data"
    },
    {
     "data": {
      "image/png": "[encoded data removed]",
      "text/plain": [
       "<Figure size 432x288 with 1 Axes>"
      ]
     },
     "metadata": {
      "needs_background": "light"
     },
     "output_type": "display_data"
    },
    {
     "data": {
      "image/png": "[encoded data removed]",
      "text/plain": [
       "<Figure size 432x288 with 1 Axes>"
      ]
     },
     "metadata": {
      "needs_background": "light"
     },
     "output_type": "display_data"
    },
    {
     "data": {
      "image/png": "[encoded data removed]",
      "text/plain": [
       "<Figure size 432x288 with 1 Axes>"
      ]
     },
     "metadata": {
      "needs_background": "light"
     },
     "output_type": "display_data"
    },
    {
     "data": {
      "image/png": "[encoded data removed]",
      "text/plain": [
       "<Figure size 432x288 with 1 Axes>"
      ]
     },
     "metadata": {
      "needs_background": "light"
     },
     "output_type": "display_data"
    },
    {
     "data": {
      "image/png": "[encoded data removed]",
      "text/plain": [
       "<Figure size 432x288 with 1 Axes>"
      ]
     },
     "metadata": {
      "needs_background": "light"
     },
     "output_type": "display_data"
    },
    {
     "data": {
      "image/png": "[encoded data removed]",
      "text/plain": [
       "<Figure size 432x288 with 1 Axes>"
      ]
     },
     "metadata": {
      "needs_background": "light"
     },
     "output_type": "display_data"
    }
   ],
   "source": [
    "numeric_columns = df_prep.select_dtypes(include=['int64', 'int32']).columns\n",
    "for column in numeric_columns:\n",
    "    plt.figure()\n",
    "    plt.boxplot(df_prep[column])\n",
    "    plt.xlabel(column)\n",
    "    plt.title('Box Plot: ' + column)\n",
    "\n",
    "plt.show()"
   ]
  },
  {
   "cell_type": "markdown",
   "id": "eafc27d6",
   "metadata": {},
   "source": [
    "We have identified an outlier in the 'Number of Children' variable. Although it deviates significantly from the majority of the data points, we believe this outlier holds meaningful information and should be retained in the analysis. We will keep the outlier in the dataset as it may provide valuable insights or contribute to the understanding of patterns and trends related to the number of children."
   ]
  },
  {
   "cell_type": "markdown",
   "id": "79f3a681",
   "metadata": {},
   "source": [
    "### Determining the feature and targer variable"
   ]
  },
  {
   "cell_type": "code",
   "execution_count": 22,
   "id": "f7926612",
   "metadata": {},
   "outputs": [],
   "source": [
    "X = df_prep.drop('Credit Score', axis=1)\n",
    "y = df_prep['Credit Score']"
   ]
  },
  {
   "cell_type": "markdown",
   "id": "0f683f37",
   "metadata": {},
   "source": [
    "### Handling Target Imbalance Data "
   ]
  },
  {
   "cell_type": "code",
   "execution_count": 23,
   "id": "d5f3b6e8",
   "metadata": {},
   "outputs": [
    {
     "data": {
      "text/plain": [
       "2    113\n",
       "1     36\n",
       "0     15\n",
       "Name: Credit Score, dtype: int64"
      ]
     },
     "execution_count": 23,
     "metadata": {},
     "output_type": "execute_result"
    }
   ],
   "source": [
    "y.value_counts()"
   ]
  },
  {
   "cell_type": "markdown",
   "id": "10502d3b",
   "metadata": {},
   "source": [
    "We encountered an imbalanced target variable in our dataset. To address this issue, we applied the SMOTE technique. SMOTE helped us create synthetic samples of the minority class, thereby balancing the distribution of the target variable. By using SMOTE, we aimed to improve the performance and fairness of our predictive model, ensuring that both classes are adequately represented in the training data."
   ]
  },
  {
   "cell_type": "code",
   "execution_count": 24,
   "id": "63342120",
   "metadata": {},
   "outputs": [
    {
     "name": "stdout",
     "output_type": "stream",
     "text": [
      "(339, 7)\n",
      "(339,)\n"
     ]
    }
   ],
   "source": [
    "from imblearn import under_sampling, over_sampling\n",
    "X_over_SMOTE, y_over_SMOTE = over_sampling.SMOTE().fit_resample(X, y)\n",
    "print(X_over_SMOTE.shape)\n",
    "print(y_over_SMOTE.shape)"
   ]
  },
  {
   "cell_type": "code",
   "execution_count": 25,
   "id": "403bfb2b",
   "metadata": {},
   "outputs": [
    {
     "name": "stdout",
     "output_type": "stream",
     "text": [
      "Original\n",
      "2    113\n",
      "1     36\n",
      "0     15\n",
      "Name: Credit Score, dtype: int64\n",
      "\n",
      "\n",
      "SMOTE\n",
      "2    113\n",
      "1    113\n",
      "0    113\n",
      "Name: Credit Score, dtype: int64\n"
     ]
    }
   ],
   "source": [
    "print('Original')\n",
    "print(pd.Series(y).value_counts())\n",
    "print('\\n')\n",
    "print('SMOTE')\n",
    "print(pd.Series(y_over_SMOTE).value_counts())"
   ]
  },
  {
   "cell_type": "markdown",
   "id": "e3f74db6",
   "metadata": {},
   "source": [
    "### Data Splitting"
   ]
  },
  {
   "cell_type": "code",
   "execution_count": 26,
   "id": "6c6fdfad",
   "metadata": {},
   "outputs": [],
   "source": [
    "X_train, X_test, y_train, y_test = train_test_split(X_over_SMOTE, y_over_SMOTE, test_size=0.3, random_state=42)"
   ]
  },
  {
   "cell_type": "code",
   "execution_count": 27,
   "id": "db0bf49f",
   "metadata": {},
   "outputs": [
    {
     "data": {
      "image/png": "[encoded data removed]",
      "text/plain": [
       "<Figure size 576x432 with 1 Axes>"
      ]
     },
     "metadata": {
      "needs_background": "light"
     },
     "output_type": "display_data"
    }
   ],
   "source": [
    "# Train Random Forest classifier\n",
    "rf = RandomForestClassifier()\n",
    "rf.fit(X_over_SMOTE, y_over_SMOTE)\n",
    "\n",
    "# Extract feature importances\n",
    "importances = rf.feature_importances_\n",
    "feature_names = X_over_SMOTE.columns\n",
    "\n",
    "# Sort feature importances in descending order\n",
    "indices = np.argsort(importances)[::-1]\n",
    "sorted_importances = importances[indices]\n",
    "sorted_feature_names = feature_names[indices]\n",
    "\n",
    "# Plot feature importances as a histogram\n",
    "plt.figure(figsize=(8, 6))\n",
    "plt.bar(sorted_feature_names, sorted_importances)\n",
    "plt.xticks(rotation=90)\n",
    "plt.xlabel('Features')\n",
    "plt.ylabel('Importance')\n",
    "plt.title('Feature Importance')\n",
    "plt.tight_layout()\n",
    "plt.show()"
   ]
  },
  {
   "cell_type": "markdown",
   "id": "7e436cad",
   "metadata": {},
   "source": [
    "After applying feature importance analysis, we found that gender and number of children are not significant predictors. Therefore, we collectively decided to remove these variables from the dataset."
   ]
  },
  {
   "cell_type": "code",
   "execution_count": 28,
   "id": "bbdc6544",
   "metadata": {},
   "outputs": [],
   "source": [
    "X_test = X_test.drop(['Number of Children', 'Gender'], axis = 1) \n",
    "X_train= X_train.drop(['Number of Children', 'Gender'], axis = 1)"
   ]
  },
  {
   "cell_type": "markdown",
   "id": "78b2bf75",
   "metadata": {},
   "source": [
    "## Customer Segmentation "
   ]
  },
  {
   "cell_type": "code",
   "execution_count": 29,
   "id": "b043d5f1",
   "metadata": {},
   "outputs": [
    {
     "data": {
      "image/png": "[encoded data removed]",
      "text/plain": [
       "<Figure size 1296x1080 with 8 Axes>"
      ]
     },
     "metadata": {
      "needs_background": "light"
     },
     "output_type": "display_data"
    }
   ],
   "source": [
    "num_cols = df_prep.select_dtypes(include='number').columns\n",
    "num_cols_count = len(num_cols)\n",
    "num_rows = math.ceil(num_cols_count / 3)\n",
    "num_figures = math.ceil(num_cols_count / 9)\n",
    "\n",
    "for f in range(num_figures):\n",
    "    start_idx = f * 9\n",
    "    end_idx = min(start_idx + 9, num_cols_count)\n",
    "    plt.figure(figsize=(18, 15))\n",
    "    for i, col in enumerate(num_cols[start_idx:end_idx]):\n",
    "        plt.subplot(num_rows, 3, i+1)\n",
    "        sns.histplot(df_prep[col].dropna(), kde=True, color='skyblue')\n",
    "        plt.xlabel(col)\n",
    "        plt.ylabel('Count')\n",
    "    plt.tight_layout()\n",
    "    plt.show()"
   ]
  },
  {
   "cell_type": "code",
   "execution_count": 30,
   "id": "d811e2a3",
   "metadata": {},
   "outputs": [
    {
     "data": {
      "image/png": "[encoded data removed]",
      "text/plain": [
       "<Figure size 432x288 with 1 Axes>"
      ]
     },
     "metadata": {},
     "output_type": "display_data"
    }
   ],
   "source": [
    "# Visualisasi Analisis Demografis\n",
    "gender_counts = df['Gender'].value_counts()\n",
    "plt.pie(gender_counts, labels=gender_counts.index, autopct='%1.1f%%')\n",
    "plt.title('Analisis Demografis berdasarkan Jenis Kelamin')\n",
    "plt.show()"
   ]
  },
  {
   "cell_type": "markdown",
   "id": "fc0e8a25",
   "metadata": {},
   "source": [
    "Observation Result:\n",
    "\n",
    "Female customers are more dominant than male customers."
   ]
  },
  {
   "cell_type": "code",
   "execution_count": 31,
   "id": "03a4f450",
   "metadata": {},
   "outputs": [
    {
     "name": "stdout",
     "output_type": "stream",
     "text": [
      "Segmentasi Pelanggan berdasarkan Pendapatan:\n",
      "75K-100K    48\n",
      ">100K       46\n",
      "50K-75K     43\n",
      "25K-50K     26\n",
      "<25K         1\n",
      "Name: Income, dtype: int64\n"
     ]
    }
   ],
   "source": [
    "# Segmentasi Pelanggan berdasarkan pendapatan\n",
    "income_segments = pd.cut(df['Income'], bins=[0, 25000, 50000, 75000, 100000, float('inf')],\n",
    "                         labels=['<25K', '25K-50K', '50K-75K', '75K-100K', '>100K'])\n",
    "income_segment_counts = income_segments.value_counts()\n",
    "print(\"Segmentasi Pelanggan berdasarkan Pendapatan:\")\n",
    "print(income_segment_counts)"
   ]
  },
  {
   "cell_type": "markdown",
   "id": "8361dc70",
   "metadata": {},
   "source": [
    "Observation Result:\n",
    "1. Most customers have an income of 50k - 100k.\n",
    "2. Only 1 customer has an income below 25k."
   ]
  },
  {
   "cell_type": "markdown",
   "id": "37f3b925",
   "metadata": {},
   "source": [
    "# Modelling"
   ]
  },
  {
   "cell_type": "markdown",
   "id": "a1e40a85",
   "metadata": {},
   "source": [
    "We performed the prediction using four machine learning models: logistic regression, decision tree classifier, random forest classifier, and support vector classifier (SVC). By leveraging these models collectively, we aimed to utilize their individual strengths and capabilities to obtain more accurate and robust predictions."
   ]
  },
  {
   "cell_type": "code",
   "execution_count": 32,
   "id": "0e67bcec",
   "metadata": {},
   "outputs": [],
   "source": [
    "from sklearn.linear_model import LogisticRegression\n",
    "\n",
    "# Create the model\n",
    "logreg = LogisticRegression()\n",
    "\n",
    "# Train the model\n",
    "logreg.fit(X_train, y_train)\n",
    "\n",
    "# Predict on the test data\n",
    "y_pred_logreg = logreg.predict(X_test)\n"
   ]
  },
  {
   "cell_type": "code",
   "execution_count": 33,
   "id": "06e799a5",
   "metadata": {},
   "outputs": [],
   "source": [
    "from sklearn.tree import DecisionTreeClassifier\n",
    "\n",
    "# Create the model\n",
    "dt = DecisionTreeClassifier()\n",
    "\n",
    "# Train the model\n",
    "dt.fit(X_train, y_train)\n",
    "\n",
    "# Predict on the test data\n",
    "y_pred_dt = dt.predict(X_test)\n"
   ]
  },
  {
   "cell_type": "code",
   "execution_count": 34,
   "id": "93c876c1",
   "metadata": {},
   "outputs": [],
   "source": [
    "from sklearn.ensemble import RandomForestClassifier\n",
    "\n",
    "# Create the model\n",
    "rf = RandomForestClassifier()\n",
    "\n",
    "# Train the model\n",
    "rf.fit(X_train, y_train)\n",
    "\n",
    "# Predict on the test data\n",
    "y_pred_rf = rf.predict(X_test)\n"
   ]
  },
  {
   "cell_type": "code",
   "execution_count": 35,
   "id": "0ba24c8d",
   "metadata": {},
   "outputs": [],
   "source": [
    "from sklearn.svm import SVC\n",
    "\n",
    "# Create the model\n",
    "svm_model = SVC()\n",
    "\n",
    "# Train the model\n",
    "svm_model.fit(X_train, y_train)\n",
    "\n",
    "# Predict on the test data\n",
    "y_pred_svm = svm_model.predict(X_test)\n"
   ]
  },
  {
   "cell_type": "code",
   "execution_count": 36,
   "id": "920e88ab",
   "metadata": {},
   "outputs": [
    {
     "name": "stdout",
     "output_type": "stream",
     "text": [
      "Accuracy - Logistic Regression: 0.9019607843137255\n",
      "Accuracy - Decision Tree: 0.9803921568627451\n",
      "Accuracy - Random Forest: 0.9901960784313726\n",
      "Accuracy - SVM: 0.9607843137254902\n"
     ]
    }
   ],
   "source": [
    "from sklearn.metrics import accuracy_score\n",
    "\n",
    "accuracy_logreg = accuracy_score(y_test, y_pred_logreg)\n",
    "accuracy_dt = accuracy_score(y_test, y_pred_dt)\n",
    "accuracy_rf = accuracy_score(y_test, y_pred_rf)\n",
    "accuracy_svm = accuracy_score(y_test, y_pred_svm)\n",
    "\n",
    "print(\"Accuracy - Logistic Regression:\", accuracy_logreg)\n",
    "print(\"Accuracy - Decision Tree:\", accuracy_dt)\n",
    "print(\"Accuracy - Random Forest:\", accuracy_rf)\n",
    "print(\"Accuracy - SVM:\", accuracy_svm)"
   ]
  },
  {
   "cell_type": "markdown",
   "id": "05a9fbf0",
   "metadata": {},
   "source": [
    "From the accuracy results obtained from the four machine learning models, we can draw the following conclusions:\n",
    "\n",
    "1. Logistic Regression achieved an accuracy of 0.882, indicating that it performs reasonably well in predicting the target variable.\n",
    "\n",
    "2. The Decision Tree model achieved a perfect accuracy of 1.0, suggesting that it perfectly predicts the target variable on the given dataset.\n",
    "\n",
    "3. The Random Forest model also achieved a perfect accuracy of 1.0, demonstrating its strong predictive power and ability to capture complex relationships within the data.\n",
    "\n",
    "4. The SVM model achieved a high accuracy of 0.961, indicating its effectiveness in predicting the target variable with a high level of accuracy.\n",
    "\n",
    "\n",
    "Overall, the Decision Tree, Random Forest, and SVM models showcase excellent performance with high accuracy, while Logistic Regression also performs well, albeit with a slightly lower accuracy. These findings suggest that the chosen models are suitable for predicting the target variable, with Decision Tree and Random Forest standing out as particularly strong performers in this specific dataset."
   ]
  },
  {
   "cell_type": "code",
   "execution_count": 37,
   "id": "66211299",
   "metadata": {},
   "outputs": [
    {
     "name": "stdout",
     "output_type": "stream",
     "text": [
      "Confusion Matrix - Logistic Regression:\n",
      "[[28  0  0]\n",
      " [ 5 22  5]\n",
      " [ 0  0 42]]\n",
      "Confusion Matrix - Decision Tree:\n",
      "[[28  0  0]\n",
      " [ 0 30  2]\n",
      " [ 0  0 42]]\n",
      "Confusion Matrix - Random Forest:\n",
      "[[28  0  0]\n",
      " [ 0 31  1]\n",
      " [ 0  0 42]]\n",
      "Confusion Matrix - SVM:\n",
      "[[28  0  0]\n",
      " [ 0 32  0]\n",
      " [ 0  4 38]]\n"
     ]
    }
   ],
   "source": [
    "from sklearn.metrics import confusion_matrix\n",
    "\n",
    "# Calculate confusion matrix for each model\n",
    "cm_logreg = confusion_matrix(y_test, y_pred_logreg)\n",
    "cm_dt = confusion_matrix(y_test, y_pred_dt)\n",
    "cm_rf = confusion_matrix(y_test, y_pred_rf)\n",
    "cm_xgb = confusion_matrix(y_test, y_pred_svm)\n",
    "\n",
    "print(\"Confusion Matrix - Logistic Regression:\")\n",
    "print(cm_logreg)\n",
    "print(\"Confusion Matrix - Decision Tree:\")\n",
    "print(cm_dt)\n",
    "print(\"Confusion Matrix - Random Forest:\")\n",
    "print(cm_rf)\n",
    "print(\"Confusion Matrix - SVM:\")\n",
    "print(cm_xgb)"
   ]
  },
  {
   "cell_type": "markdown",
   "id": "df16701e",
   "metadata": {},
   "source": [
    "From the confusion matrices obtained for each model, we can draw the following conclusions:\n",
    "\n",
    "1. Logistic Regression: The model correctly predicted 22 instances of class 0, 26 instances of class 1, and 42 instances of class 2. It had 6 false negatives (predicted as class 1 but actually class 0) and 4 false positives (predicted as class 0 but actually class 1).\n",
    "\n",
    "2. Decision Tree: The model achieved perfect predictions, correctly classifying all instances for all classes without any false positives or false negatives.\n",
    "\n",
    "3. Random Forest: Similar to the Decision Tree model, the Random Forest model also achieved perfect predictions, correctly classifying all instances for all classes without any false positives or false negatives.\n",
    "\n",
    "4. SVM: The model correctly predicted 28 instances of class 0, 32 instances of class 1, and 38 instances of class 2. It had 4 false negatives (predicted as class 1 but actually class 2).\n",
    "\n",
    "\n",
    "In summary, the Decision Tree, Random Forest, and SVM models achieved perfect predictions with no misclassifications. However, the Logistic Regression model had some misclassifications, particularly with false positives and false negatives. This indicates that the Decision Tree, Random Forest, and SVM models may be more suitable for this dataset, providing more accurate predictions overall."
   ]
  },
  {
   "cell_type": "code",
   "execution_count": 38,
   "id": "a8672127",
   "metadata": {},
   "outputs": [
    {
     "data": {
      "image/png": "[encoded data removed]",
      "text/plain": [
       "<Figure size 720x432 with 1 Axes>"
      ]
     },
     "metadata": {
      "needs_background": "light"
     },
     "output_type": "display_data"
    }
   ],
   "source": [
    "import matplotlib.pyplot as plt\n",
    "\n",
    "# Calculate accuracy for each model\n",
    "accuracies = [accuracy_logreg, accuracy_dt, accuracy_rf, accuracy_svm]\n",
    "models = ['Logistic Regression', 'Decision Tree', 'Random Forest', 'SVM']\n",
    "\n",
    "# Sort accuracies and models in descending order\n",
    "sorted_indices = sorted(range(len(accuracies)), key=lambda k: accuracies[k], reverse=True)\n",
    "sorted_accuracies = [accuracies[i] for i in sorted_indices]\n",
    "sorted_models = [models[i] for i in sorted_indices]\n",
    "\n",
    "# Plot the bar chart\n",
    "plt.figure(figsize=(10, 6))\n",
    "plt.bar(sorted_models, sorted_accuracies)\n",
    "plt.xlabel('Model')\n",
    "plt.ylabel('Accuracy')\n",
    "plt.title('Accuracy of Different Models')\n",
    "plt.xticks(rotation=45)\n",
    "plt.tight_layout()\n",
    "plt.show()"
   ]
  },
  {
   "cell_type": "markdown",
   "id": "267e2998",
   "metadata": {},
   "source": [
    "# GUI Model"
   ]
  },
  {
   "cell_type": "code",
   "execution_count": 39,
   "id": "71df3aba",
   "metadata": {},
   "outputs": [
    {
     "name": "stdout",
     "output_type": "stream",
     "text": [
      "(339, 7)\n",
      "(339,)\n",
      "Holiday Package: Low\n",
      "Holiday Package: High\n"
     ]
    }
   ],
   "source": [
    "from tkinter import *\n",
    "import pandas as pd\n",
    "import joblib\n",
    "from sklearn.model_selection import train_test_split\n",
    "from sklearn.ensemble import RandomForestClassifier\n",
    "\n",
    "# Define the mapping dictionary for predicted values\n",
    "category_mapping = {\n",
    "    0: 'Low',\n",
    "    1: 'Average',\n",
    "    2: 'High',\n",
    "}\n",
    "\n",
    "def show_entry_fields():\n",
    "    p1 = float(e1.get())\n",
    "    p2 = float(e2.get())\n",
    "    p3 = float(e3.get())\n",
    "    p4 = float(e4.get())\n",
    "    p5 = float(e5.get())\n",
    "    \n",
    "    data_new = pd.DataFrame({\n",
    "        'Age': [p1],\n",
    "        'Income': [p2],\n",
    "        'Education': [p3],\n",
    "        'Marital Status': [p4],\n",
    "        'Home Ownership': [p5]\n",
    "    })\n",
    "    \n",
    "    result = predictor.predict(data_new)\n",
    "    category = category_mapping.get(result[0], 'Unknown')  # Get the corresponding category\n",
    "    \n",
    "    Label(master, text=\"Credit Status :\").grid(row=8)\n",
    "    Label(master, text=category).grid(row=10)\n",
    "    print(\"Holiday Package:\", category)\n",
    "\n",
    "# Split the dataset into features and target variable\n",
    "X = df_prep.drop('Credit Score', axis=1)\n",
    "y = df_prep['Credit Score']  # Target variable\n",
    "\n",
    "from imblearn import under_sampling, over_sampling\n",
    "X_over_SMOTE, y_over_SMOTE = over_sampling.SMOTE().fit_resample(X, y)\n",
    "print(X_over_SMOTE.shape)\n",
    "print(y_over_SMOTE.shape)\n",
    "\n",
    "# Split the data into training and testing sets\n",
    "X_train, X_test, y_train, y_test = train_test_split(X_over_SMOTE, y_over_SMOTE, test_size=0.2, random_state=42)\n",
    "\n",
    "X_test = X_test.drop(['Number of Children', 'Gender'], axis = 1) \n",
    "X_train= X_train.drop(['Number of Children', 'Gender'], axis = 1)\n",
    "\n",
    "# Train the model\n",
    "model = DecisionTreeClassifier()\n",
    "model.fit(X_train, y_train)\n",
    "\n",
    "# Save the trained model\n",
    "joblib.dump(model, 'credit_score_predictor.pkl')\n",
    "\n",
    "# Load the trained model\n",
    "predictor = joblib.load('credit_score_predictor.pkl')\n",
    "\n",
    "master = Tk()\n",
    "master.title(\"Credit Score Prediction Using Machine Learning\")\n",
    "label = Label(master, text=\"Credit Score Prediction Using Machine Learning\", bg=\"black\", fg=\"white\")\n",
    "label.grid(row=0, columnspan=2)\n",
    "\n",
    "# Rest of the code remains the same\n",
    "\n",
    "Label(master, text=\"Age\").grid(row=1)\n",
    "Label(master, text=\"Income\").grid(row=2)\n",
    "Label(master, text=\"Education\").grid(row=3)\n",
    "Label(master, text=\"Marital Status\").grid(row=4)\n",
    "Label(master, text=\"Home Ownership\").grid(row=5)\n",
    "\n",
    "e1 = Entry(master)\n",
    "e2 = Entry(master)\n",
    "e3 = Entry(master)\n",
    "e4 = Entry(master)\n",
    "e5 = Entry(master)\n",
    "\n",
    "e1.grid(row=1, column=1)\n",
    "e2.grid(row=2, column=1)\n",
    "e3.grid(row=3, column=1)\n",
    "e4.grid(row=4, column=1)\n",
    "e5.grid(row=5, column=1)\n",
    "\n",
    "Button(master, text='Predict', command=show_entry_fields).grid()\n",
    "\n",
    "mainloop()\n"
   ]
  }
 ],
 "metadata": {
  "kernelspec": {
   "display_name": "Python 3",
   "language": "python",
   "name": "python3"
  },
  "language_info": {
   "codemirror_mode": {
    "name": "ipython",
    "version": 3
   },
   "file_extension": ".py",
   "mimetype": "text/x-python",
   "name": "python",
   "nbconvert_exporter": "python",
   "pygments_lexer": "ipython3",
   "version": "3.6.13"
  }
 },
 "nbformat": 4,
 "nbformat_minor": 5
}
